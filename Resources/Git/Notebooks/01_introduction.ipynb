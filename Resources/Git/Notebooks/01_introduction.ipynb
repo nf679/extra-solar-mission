{
 "cells": [
  {
   "cell_type": "markdown",
   "id": "64d7a56d-daa0-462b-915e-624798474280",
   "metadata": {},
   "source": [
    "# Introduction to Git and GitHub"
   ]
  },
  {
   "cell_type": "code",
   "execution_count": null,
   "id": "559c68fe-b757-49ac-a562-8aeac74b8406",
   "metadata": {},
   "outputs": [],
   "source": []
  }
 ],
 "metadata": {
  "kernelspec": {
   "display_name": "Python 3 (ipykernel)",
   "language": "python",
   "name": "python3"
  },
  "language_info": {
   "codemirror_mode": {
    "name": "ipython",
    "version": 3
   },
   "file_extension": ".py",
   "mimetype": "text/x-python",
   "name": "python",
   "nbconvert_exporter": "python",
   "pygments_lexer": "ipython3",
   "version": "3.9.16"
  }
 },
 "nbformat": 4,
 "nbformat_minor": 5
}
