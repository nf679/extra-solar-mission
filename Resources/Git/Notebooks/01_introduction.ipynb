{
 "cells": [
  {
   "cell_type": "markdown",
   "id": "64d7a56d-daa0-462b-915e-624798474280",
   "metadata": {},
   "source": [
    "# Introduction to Git and GitHub"
   ]
  },
  {
   "cell_type": "markdown",
   "id": "d48705bd-7bdd-4588-b8fc-a58143607ff6",
   "metadata": {},
   "source": [
    "## Version Control Software"
   ]
  },
  {
   "cell_type": "markdown",
   "id": "1036855c-e0a6-4844-bc8f-b0ebd446148b",
   "metadata": {},
   "source": [
    "`Git` is an example of `version control software`. Version control software keeps track of your changes and allows you to revert back to previous points in history. It can also be useful for managing contributions from multiple people - you can all have your own copies of the code which you can merge together to allow collaboration on the same piece of code."
   ]
  },
  {
   "cell_type": "markdown",
   "id": "e45e51a1-22c5-4e7b-be83-08e8c317a43f",
   "metadata": {},
   "source": [
    "So to summarise, version control is useful for:\n",
    "- Collaboration\n",
    "- Back-up\n",
    "- Testing new ideas without the fear of permanently breaking the code\n",
    "- Reduce errors associated with renaming files etc (\"mydocv1.txt\", \"mydoc_final\")\n"
   ]
  },
  {
   "cell_type": "markdown",
   "id": "ce7d35c0-c613-450d-aeae-7e3a5525906c",
   "metadata": {},
   "source": [
    "## What is GitHub?"
   ]
  },
  {
   "cell_type": "markdown",
   "id": "219c0f48-0012-46bc-89e0-26800aa26fb0",
   "metadata": {},
   "source": [
    "There are a number of tools and web services that can do the same tasks managed by `Git`/`GitHub` but these are two of the most commonly used tools. "
   ]
  },
  {
   "cell_type": "markdown",
   "id": "e077794b-d2fc-4a63-8aa2-d7304c39ae65",
   "metadata": {},
   "source": [
    "[GitHub](https://github.com) is a web-based Git repository hosting service. This basically means it is the website which stores the versions of your code. "
   ]
  },
  {
   "cell_type": "markdown",
   "id": "bc7591da-1935-479e-995a-217a8f7579bf",
   "metadata": {},
   "source": [
    "GitHub allows you to:\n",
    "- Share your code with other people\n",
    "- Access other people's code\n",
    "- Store 'remote' copies of your code as a back-up\n",
    "- Add bug tracking, feature requests, official documentation."
   ]
  },
  {
   "cell_type": "markdown",
   "id": "5b218388-cfdc-4b35-aaf2-68f135211c62",
   "metadata": {},
   "source": [
    "GitHub is free for most use cases!"
   ]
  },
  {
   "cell_type": "markdown",
   "id": "b211c6bb-e1d4-4a14-86cc-80efd8616c33",
   "metadata": {},
   "source": [
    "## What is the difference between Git and GitHub?"
   ]
  },
  {
   "cell_type": "markdown",
   "id": "6aef1051-aa6a-4ae4-8098-f05bbf6ed733",
   "metadata": {},
   "source": [
    "`Git` is the version control system - it is the tool which manages your code history (usually in the terminal). `GitHub` is the hosting service for your git repositories. They are not the same thing. Git is the tool, GitHub is the web service. "
   ]
  },
  {
   "cell_type": "markdown",
   "id": "0384c6f3-2bfa-454c-ba01-f2508c756b07",
   "metadata": {},
   "source": [
    "You can use Git without GitHub but together they are very useful."
   ]
  },
  {
   "cell_type": "markdown",
   "id": "3bc55fd3-927e-46ba-bda7-05ab5dea4186",
   "metadata": {},
   "source": [
    "A GitHub `repository` is essentially just a folder (or directory) of files. For example, [Extra Solar Mission](https://github.com/nf679/extra_solar_mission) is a repository."
   ]
  },
  {
   "cell_type": "markdown",
   "id": "172cdc97-8859-40d7-b82c-86a0757c4912",
   "metadata": {},
   "source": [
    "This repository is `public` - i.e. anybody can see it. There are also `private` repositories where you can control who sees your code. "
   ]
  },
  {
   "cell_type": "markdown",
   "id": "ee0afe76-1e58-4f65-8d35-d7c2c7a715c7",
   "metadata": {},
   "source": [
    "Collaboration in GitHub can be slightly complicated to grasp but is really useful when you want to work on code with other people. There are things called `branches` and `forks` which are essentially copies of a piece of code that you are free to edit and can `merge` into the original codebase once you're happy with your changes. We will go over this in more detail in the next few notebooks. "
   ]
  },
  {
   "cell_type": "markdown",
   "id": "ff671e9e-fe65-4721-a619-50496eb2eb7f",
   "metadata": {},
   "source": [
    "We will also go over `issue tracking` and `code reviews` - these are features which allow you to point out any issues with the code, and assign somebody to review the code that you have written. "
   ]
  }
 ],
 "metadata": {
  "kernelspec": {
   "display_name": "Python 3 (ipykernel)",
   "language": "python",
   "name": "python3"
  },
  "language_info": {
   "codemirror_mode": {
    "name": "ipython",
    "version": 3
   },
   "file_extension": ".py",
   "mimetype": "text/x-python",
   "name": "python",
   "nbconvert_exporter": "python",
   "pygments_lexer": "ipython3",
   "version": "3.9.16"
  }
 },
 "nbformat": 4,
 "nbformat_minor": 5
}
