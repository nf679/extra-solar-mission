{
 "cells": [
  {
   "cell_type": "markdown",
   "id": "34513510-56e1-42b5-806c-86b20f2f2f88",
   "metadata": {},
   "source": [
    "# Creating a GitHub account"
   ]
  },
  {
   "cell_type": "markdown",
   "id": "1ebb2f52-8dda-44d5-8348-ebb32f3b9fd4",
   "metadata": {},
   "source": [
    "To store code in a repository on GitHub, you need to make an account."
   ]
  },
  {
   "cell_type": "markdown",
   "id": "4436f4f5-992d-49bf-8e27-fa60f95dbda1",
   "metadata": {},
   "source": [
    "## 1. Navigate to [GitHub](https://github.com)"
   ]
  },
  {
   "cell_type": "markdown",
   "id": "447ea5c3-e063-454f-93cb-796b315d383a",
   "metadata": {},
   "source": [
    "This will work in any browser, and should take you to a page that looks something like this:"
   ]
  },
  {
   "attachments": {},
   "cell_type": "markdown",
   "id": "62af7446-29bf-42d6-b5e9-5e98eb43fc78",
   "metadata": {},
   "source": [
    "![01_github_homepage.png](images/01_github_homepage.png)"
   ]
  },
  {
   "cell_type": "markdown",
   "id": "9329cc01-1ac8-47c9-9a31-467418378a04",
   "metadata": {},
   "source": [
    "## 2. Click on the sign up button"
   ]
  },
  {
   "cell_type": "markdown",
   "id": "8e5b0094-7812-4fd6-bc9c-93cabb3930b1",
   "metadata": {},
   "source": [
    "This will take you to a page where you will be taken through the sign up process."
   ]
  },
  {
   "cell_type": "markdown",
   "id": "8cfb968b-52f7-4eb3-b006-cbda12f55f3c",
   "metadata": {},
   "source": [
    "**IMPORTANT: please use your `school email address` to sign up.**"
   ]
  },
  {
   "cell_type": "markdown",
   "id": "4d5f0049-2e33-41d7-8032-ea256f076e02",
   "metadata": {},
   "source": [
    "Type `n` for the question `Would you like to receive product updates and announcements via email`."
   ]
  },
  {
   "cell_type": "markdown",
   "id": "3d7d69b2-14c1-4f1e-bf4e-9b21164bb396",
   "metadata": {},
   "source": [
    "Once you have entered your details and confirmed you're not a robot, there will be a button at the bottom to `Create your account`. Once you click this you will then need to enter the code that they email to _launch_. "
   ]
  },
  {
   "attachments": {},
   "cell_type": "markdown",
   "id": "ee46d1cf-8553-4d4d-9c3f-b9a5a84ace46",
   "metadata": {},
   "source": [
    "![02_sign_up.png](images/02_sign_up.png)"
   ]
  },
  {
   "cell_type": "markdown",
   "id": "13c02f5f-3760-423f-99f5-c8d064d3a2fd",
   "metadata": {},
   "source": [
    "## 3. Set up your account"
   ]
  },
  {
   "cell_type": "markdown",
   "id": "304ce30b-274a-4016-89ac-2a62ef5ee754",
   "metadata": {},
   "source": [
    "Once you have entered the code, you will be taken to a screen that looks like this. Select the options highlighted in the pictures:"
   ]
  },
  {
   "attachments": {},
   "cell_type": "markdown",
   "id": "a39c5f1c-239f-4ff7-bd93-ef8fdca880fe",
   "metadata": {},
   "source": [
    "![03_set_up.png](images/03_set_up.png)"
   ]
  },
  {
   "cell_type": "markdown",
   "id": "57fedc0a-28d1-498e-8de9-197a5e7916fb",
   "metadata": {},
   "source": [
    "Select none of the options."
   ]
  },
  {
   "attachments": {},
   "cell_type": "markdown",
   "id": "129c0fdc-81bc-4a6f-8662-f7dc5e5005e1",
   "metadata": {},
   "source": [
    "![04_set_up2.png](images/04_set_up2.png)"
   ]
  },
  {
   "cell_type": "markdown",
   "id": "827dbda9-e326-4031-a3e5-ac81445c5f21",
   "metadata": {},
   "source": [
    "Click `continue for free` on the left hand side."
   ]
  },
  {
   "attachments": {},
   "cell_type": "markdown",
   "id": "d0022428-3ce9-47bf-91e6-676b951b2e44",
   "metadata": {},
   "source": [
    "![05_set_up3.png](images/05_set_up3.png)"
   ]
  },
  {
   "cell_type": "markdown",
   "id": "e704e937-a614-4ad0-90c1-4edf9fa950b7",
   "metadata": {},
   "source": [
    "## 4. All done - let's take a look around"
   ]
  },
  {
   "cell_type": "markdown",
   "id": "1ca2762a-3876-4ce7-bb8e-4101f5a39f33",
   "metadata": {},
   "source": [
    "You should now end up on a screen that looks like this:"
   ]
  },
  {
   "attachments": {},
   "cell_type": "markdown",
   "id": "980cd028-7ee6-478a-9188-e6932aaec35c",
   "metadata": {},
   "source": [
    "![06_dashboard.png](images/06_dashboard.png)"
   ]
  },
  {
   "cell_type": "markdown",
   "id": "fa79b9a3-1d6c-4fba-8c41-8541282867d8",
   "metadata": {},
   "source": [
    "This is your GitHub dashboard. Once you have created a repository, they will be listed in the bar on the left along with your recent activity. The homepage feed will show activity from people you follow - there won't be much there at the moment! There's a few boxes telling you to `start a new repository` or `introduce yourseld with a profile README`. We don't need to do any of that just yet. There's some boxes on the right hand side saying `Latest changes` which describes the latest changes to GitHub, and `Explore repositories` which links some popular repositories that you could take a look at. "
   ]
  },
  {
   "cell_type": "markdown",
   "id": "f347ee6f-aeee-43d4-a196-5eb44beaa33e",
   "metadata": {},
   "source": [
    "### Options menu"
   ]
  },
  {
   "cell_type": "markdown",
   "id": "94c6fa7c-3044-40ba-a481-f101c30ee185",
   "metadata": {},
   "source": [
    "If you click the 3 lines in the top left, you will bring up a menu. Here there are links to various pages such as  `Home`, `Issues` and `Pull requests`. We don't need any of those right now but feel free to explore. You can always click the button again on any page to bring up this menu and click `Home` to get back to your dashboard.  "
   ]
  },
  {
   "attachments": {},
   "cell_type": "markdown",
   "id": "85c5ade3-408f-4636-a5e7-b33b1b24c1aa",
   "metadata": {},
   "source": [
    "![07_options_menu.png](images/07_options_menu.png)"
   ]
  },
  {
   "cell_type": "markdown",
   "id": "7ca34d5a-c258-482c-bea7-2c53c238ee5d",
   "metadata": {},
   "source": [
    "### Your profile"
   ]
  },
  {
   "cell_type": "markdown",
   "id": "d699c4c0-1057-4d42-bf49-abbc9979046a",
   "metadata": {},
   "source": [
    "If you click the pixelated icon in the corner (this is your profile picture), it will bring up your account menu."
   ]
  },
  {
   "attachments": {},
   "cell_type": "markdown",
   "id": "8ea3fbec-76bb-4faf-8c87-e50911a31b7b",
   "metadata": {},
   "source": [
    "![08_account_menu.png](images/08_account_menu.png)"
   ]
  },
  {
   "cell_type": "markdown",
   "id": "09d7b949-b19d-4943-86dd-932d87c47307",
   "metadata": {},
   "source": [
    "Here there are links to various pages to do with your account. Here is where you can click `sign out` to sign out of your account. We don't really need any of the other options, but let's take a look at your profile - click `Your profile`. You will be taken to a page that looks like this:"
   ]
  },
  {
   "attachments": {},
   "cell_type": "markdown",
   "id": "d8e543ad-0c67-4f1d-a6dd-d7fe113b6970",
   "metadata": {},
   "source": [
    "![09_profile.png](images/09_profile.png)"
   ]
  },
  {
   "cell_type": "markdown",
   "id": "31df6bda-d100-4b25-b3cf-dc738024a378",
   "metadata": {},
   "source": [
    "This will show a graph of your `contribution graph` showing activity from the year as little green boxes. Underneath that there is a timeline of `Contribution activity` which lists thinks you have been working on. "
   ]
  },
  {
   "cell_type": "markdown",
   "id": "38ed2372-35c8-4081-97b8-693a16f2a482",
   "metadata": {},
   "source": [
    "Once you have created repositories, you can click on the `Repositories` tab to see all of the code you have stored in your account. We don't need to worry about any of the other tabs for now."
   ]
  },
  {
   "cell_type": "markdown",
   "id": "d83b70f2-3f90-47e3-8644-5741a4c58b58",
   "metadata": {},
   "source": [
    "## All done! Feel free to explore GitHub some more, but please remember - **don't share any personal information on your profile**. "
   ]
  }
 ],
 "metadata": {
  "kernelspec": {
   "display_name": "Python 3 (ipykernel)",
   "language": "python",
   "name": "python3"
  },
  "language_info": {
   "codemirror_mode": {
    "name": "ipython",
    "version": 3
   },
   "file_extension": ".py",
   "mimetype": "text/x-python",
   "name": "python",
   "nbconvert_exporter": "python",
   "pygments_lexer": "ipython3",
   "version": "3.9.16"
  }
 },
 "nbformat": 4,
 "nbformat_minor": 5
}
