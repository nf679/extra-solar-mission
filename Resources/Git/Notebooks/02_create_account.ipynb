{
 "cells": [
  {
   "cell_type": "markdown",
   "id": "34513510-56e1-42b5-806c-86b20f2f2f88",
   "metadata": {},
   "source": [
    "# Creating a GitHub account"
   ]
  },
  {
   "cell_type": "code",
   "execution_count": null,
   "id": "d478f42c-2802-413b-9a07-3d1c53bba403",
   "metadata": {},
   "outputs": [],
   "source": []
  },
  {
   "cell_type": "code",
   "execution_count": null,
   "id": "54a62fc4-3960-4fb7-b3a4-3a1fd5213d07",
   "metadata": {},
   "outputs": [],
   "source": []
  }
 ],
 "metadata": {
  "kernelspec": {
   "display_name": "Python 3 (ipykernel)",
   "language": "python",
   "name": "python3"
  },
  "language_info": {
   "codemirror_mode": {
    "name": "ipython",
    "version": 3
   },
   "file_extension": ".py",
   "mimetype": "text/x-python",
   "name": "python",
   "nbconvert_exporter": "python",
   "pygments_lexer": "ipython3",
   "version": "3.9.16"
  }
 },
 "nbformat": 4,
 "nbformat_minor": 5
}
