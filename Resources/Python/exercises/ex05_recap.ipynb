{
 "cells": [
  {
   "cell_type": "markdown",
   "id": "7e52b49a-c2bb-48e9-8671-f1d6c9b06bd9",
   "metadata": {
    "editable": true,
    "slideshow": {
     "slide_type": ""
    },
    "tags": []
   },
   "source": [
    "# Exercise 5: Recap"
   ]
  },
  {
   "cell_type": "markdown",
   "id": "e4f4be97-015c-499e-8b76-931780379b68",
   "metadata": {},
   "source": [
    "If you have any questions or are stuck on anything, please ask!"
   ]
  }
 ],
 "metadata": {
  "kernelspec": {
   "display_name": "Python 3 + Jaspy",
   "language": "python",
   "name": "jaspy"
  },
  "language_info": {
   "codemirror_mode": {
    "name": "ipython",
    "version": 3
   },
   "file_extension": ".py",
   "mimetype": "text/x-python",
   "name": "python",
   "nbconvert_exporter": "python",
   "pygments_lexer": "ipython3",
   "version": "3.10.5"
  }
 },
 "nbformat": 4,
 "nbformat_minor": 5
}
