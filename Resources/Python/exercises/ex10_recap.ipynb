{
 "cells": [
  {
   "cell_type": "markdown",
   "id": "9823f762-7031-4286-b7e2-c63ef6e4b202",
   "metadata": {
    "editable": true,
    "slideshow": {
     "slide_type": ""
    },
    "tags": []
   },
   "source": [
    "# Exercise 10: Recap"
   ]
  },
  {
   "cell_type": "markdown",
   "id": "50faf651-6ddd-472c-b43c-7d10472b67e7",
   "metadata": {},
   "source": [
    "If you're stuck on anything or have any questions, please ask for help!"
   ]
  },
  {
   "cell_type": "code",
   "execution_count": null,
   "id": "aabe25de-8f5a-4ae0-bfe0-db191d7231af",
   "metadata": {},
   "outputs": [],
   "source": []
  }
 ],
 "metadata": {
  "kernelspec": {
   "display_name": "Python 3 + Jaspy",
   "language": "python",
   "name": "jaspy"
  },
  "language_info": {
   "codemirror_mode": {
    "name": "ipython",
    "version": 3
   },
   "file_extension": ".py",
   "mimetype": "text/x-python",
   "name": "python",
   "nbconvert_exporter": "python",
   "pygments_lexer": "ipython3",
   "version": "3.10.5"
  }
 },
 "nbformat": 4,
 "nbformat_minor": 5
}
