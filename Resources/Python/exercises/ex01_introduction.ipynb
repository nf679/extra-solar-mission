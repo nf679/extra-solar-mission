{
 "cells": [
  {
   "cell_type": "markdown",
   "id": "8d098b2b-5c2a-4dfb-89a4-52d78c3eb5c1",
   "metadata": {},
   "source": [
    "# 1. Introduction"
   ]
  },
  {
   "cell_type": "markdown",
   "id": "82bcdf16-5ebe-42ae-af9f-b3e27af1e72b",
   "metadata": {},
   "source": [
    "We will be giving you an introduction to programming in `Python 3`, the most recent major version."
   ]
  },
  {
   "cell_type": "markdown",
   "id": "bfe6422d-104d-46c9-889e-fe1297bf3691",
   "metadata": {},
   "source": [
    "## What is Python?"
   ]
  },
  {
   "cell_type": "markdown",
   "id": "e7dee458-c915-442a-91cc-24bcf09fa0c7",
   "metadata": {},
   "source": [
    "Python is a popular programming language used for a variety of things. It can be used for web development, to connect to databases, to handle big data, for scientific programming and much more! "
   ]
  },
  {
   "cell_type": "markdown",
   "id": "e9102ea9-5e12-438c-adfb-7e468fe46427",
   "metadata": {},
   "source": [
    "Python works on a variety of plarforms (Windows, Mac, Linux, etc) but we'll be running it in `Jupyter Notebooks`."
   ]
  },
  {
   "cell_type": "markdown",
   "id": "7f2ef510-194f-432b-a08b-e484861ec0b6",
   "metadata": {},
   "source": [
    "Python has a simple `syntax`, similar to the English language. This allows developers to write programs easily and thanks to lots of different `libraries`, there are plenty of existing bits of code we can use so we don't have to write lots and lots of code."
   ]
  },
  {
   "cell_type": "markdown",
   "id": "246c61ee-3eb5-4973-9466-5825c115dac6",
   "metadata": {},
   "source": [
    "Python was designed for readability. Each new line signifies a new command (as opposed to other languages which may uses semicolons or brackets to show the end of the command). It relies on whitespacing (spaces, tabs, newlines etc) and indentation to define certain things like the content of a loop or a function. "
   ]
  },
  {
   "cell_type": "markdown",
   "id": "8cb7b4f6-a8b0-4c90-ad6a-1f678c1ebe77",
   "metadata": {},
   "source": [
    "## How does writing code in Python work?"
   ]
  },
  {
   "cell_type": "markdown",
   "id": "381210c7-14f5-4084-a5d3-8740bbd990ee",
   "metadata": {},
   "source": [
    "Python runs on an `interpreter system` - this just means that we can execute code as soon as it is written, we don't have to compile it first (like you do with some languages). Basically this means that the program directly executes the instructions without turning it into machine code first."
   ]
  },
  {
   "cell_type": "markdown",
   "id": "61df2c69-a23d-4b09-84c2-ea331df6a3fc",
   "metadata": {},
   "source": [
    "To write Python code in the notebooks, we just write lines of code in the cells then run each cell. If we have printed or returned anything, we will see the output below the box. We will go through this in the next tutorials."
   ]
  }
 ],
 "metadata": {
  "kernelspec": {
   "display_name": "Python 3 (ipykernel)",
   "language": "python",
   "name": "python3"
  },
  "language_info": {
   "codemirror_mode": {
    "name": "ipython",
    "version": 3
   },
   "file_extension": ".py",
   "mimetype": "text/x-python",
   "name": "python",
   "nbconvert_exporter": "python",
   "pygments_lexer": "ipython3",
   "version": "3.9.16"
  }
 },
 "nbformat": 4,
 "nbformat_minor": 5
}
