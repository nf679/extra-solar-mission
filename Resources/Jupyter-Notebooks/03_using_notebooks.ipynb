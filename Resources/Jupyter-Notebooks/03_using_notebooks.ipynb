{
 "cells": [
  {
   "cell_type": "markdown",
   "id": "25281632-25ff-4362-a62e-f0457de91473",
   "metadata": {},
   "source": [
    "# Using Notebooks"
   ]
  },
  {
   "cell_type": "markdown",
   "id": "ea883d09-effc-49bf-8235-eef320a444bc",
   "metadata": {},
   "source": [
    "## 1. Introduction"
   ]
  },
  {
   "cell_type": "markdown",
   "id": "10f03abf-6d4d-4662-a4b6-acefd5556f22",
   "metadata": {},
   "source": [
    "These are the notebooks to go along with the teaching material. There are text (markdown) cells, like this one, which will give some background and ask you questions, and there are empty code cells for you to write some code in. Words that look `like this` are bits of code or commands."
   ]
  },
  {
   "cell_type": "markdown",
   "id": "c1c8beb7-d399-4025-acd3-f82b87af63df",
   "metadata": {},
   "source": [
    "Here are some useful tips to remember throughout this course:\n",
    "\n",
    "- Code is remembered between cells - if you define a variable in one cell, you can use it in another. More on this next lesson!\n",
    "- Writing code in Jupyter Notebooks is the same as writing a normal Python Program, the code is just split up into cells and can be run a section at a time.\n",
    "- Each cell can be run individually or you can run every cell at once. You can run cells using the play button or by selecting the cell and hitting `shift + return`.\n"
   ]
  },
  {
   "cell_type": "markdown",
   "id": "cbfa7dc3-fb66-46bc-8809-fc07fc7d3074",
   "metadata": {},
   "source": [
    "There is some information on Jupyter Notebooks [here](http://swcarpentry.github.io/python-novice-gapminder/01-run-quit.html). You can ignore the first few sections on `Starting JupyterLab`, but read `The JupyterLab Interface` and the sections after that then come back here."
   ]
  },
  {
   "cell_type": "markdown",
   "id": "e4dc5105-e370-4d84-afd4-3336aeb88542",
   "metadata": {},
   "source": [
    "## 2. Open this notebook in Monty"
   ]
  },
  {
   "cell_type": "markdown",
   "id": "e6c5f2f8-8899-4753-b70d-7ed4732d3262",
   "metadata": {},
   "source": [
    "Open this notebook in Monty by doing the following:\n",
    "- Go to [Monty](https://monty.stfc.ac.uk/) and log in if you haven't already\n",
    "- You should have your `EEP` folder with the `extra-solar-mission` folder inside. Double click on `EEP`, then `extra-solar-mission`, then `Resources`, then `Jupyter-Notebooks`, then `03_using_notebooks.ipynb` to open this notebook.\n",
    "- You should then have this notebook open on the screen!"
   ]
  },
  {
   "cell_type": "markdown",
   "id": "0b4e1895-0a23-48d8-831f-d41c372c0737",
   "metadata": {},
   "source": [
    "## 3. Let's practice using Jupyter Notebooks"
   ]
  },
  {
   "cell_type": "markdown",
   "id": "974c613d-05ff-4458-a254-767e7b478d95",
   "metadata": {},
   "source": [
    "Let's check that you can find your way around a Jupyter Notebook. In the cell below is a basic `print` statement - can you run the cell?"
   ]
  },
  {
   "cell_type": "code",
   "execution_count": 2,
   "id": "c2d3c270-dcd4-40d8-9849-b39c49db53cd",
   "metadata": {},
   "outputs": [
    {
     "name": "stdout",
     "output_type": "stream",
     "text": [
      "Good morning!\n"
     ]
    }
   ],
   "source": [
    "print(\"Good morning!\")"
   ]
  },
  {
   "cell_type": "markdown",
   "id": "ebfe9ea9-1655-466b-8259-d65f6ba62051",
   "metadata": {},
   "source": [
    "This should have returned 'Good morning!' and moved you onto the next cell (see the blue bar to the left of the current active cell)."
   ]
  },
  {
   "cell_type": "markdown",
   "id": "9e375fc0-5da1-4b0e-b496-8e8a45963116",
   "metadata": {},
   "source": [
    "There are different types of cells - markdown for pretty formatting, and code for writing/running lines of code (there's also raw but we don't need that). There is a box in the toolbar which states the type of the cell, with a dropdown menu to change the type."
   ]
  },
  {
   "cell_type": "code",
   "execution_count": null,
   "id": "f4fa5f72-ef75-43a5-bdf7-3c93ad287b8f",
   "metadata": {},
   "outputs": [],
   "source": [
    "This line of text is supposed to be in markdown mode and is causing an error. Can you swap this cell for a markdown cell instead?"
   ]
  },
  {
   "cell_type": "markdown",
   "id": "087c6846-f78d-4692-8bcc-85e4fae16d6e",
   "metadata": {},
   "source": [
    "You can delete a cell by selecting it and clicking the bin icon to the right, right clicking and selecting 'delete cell', or putting caps lock on and hitting `D D` (for this to work you have to click to the left of the cell, not inside). There is an empty cell below, can you delete it?"
   ]
  },
  {
   "cell_type": "code",
   "execution_count": null,
   "id": "4b6a421d-e912-4e48-91aa-dd79abe53beb",
   "metadata": {},
   "outputs": [],
   "source": []
  },
  {
   "cell_type": "markdown",
   "id": "14c64af1-c1d2-4ccb-8037-5732a5b9f298",
   "metadata": {},
   "source": [
    "If you use `shift + return` at the end of the notebook it will create a new empty cell. Otherwise, you can either click the plus icon in the toolbar, or put caps lock on and and type `B` (for this to work you have to click the left of the cell, not inside) to insert a new cell below the selected one. Add a new cell below and print out anything you like using `print(\"Text here\")`."
   ]
  },
  {
   "cell_type": "code",
   "execution_count": null,
   "id": "c62992b1-a896-4cec-83e3-0309f9bf1b27",
   "metadata": {},
   "outputs": [],
   "source": []
  },
  {
   "cell_type": "markdown",
   "id": "aaa37226-37f9-4fa4-93fd-7ae920419548",
   "metadata": {},
   "source": [
    "That's all you need to get started - can you save your changes before quitting? The filled circle to the right of the filename shows when there are unsaved changes in the document. You can save by clicking the icon in the toolbar, or using `command + s`."
   ]
  }
 ],
 "metadata": {
  "kernelspec": {
   "display_name": "Python 3 (ipykernel)",
   "language": "python",
   "name": "python3"
  },
  "language_info": {
   "codemirror_mode": {
    "name": "ipython",
    "version": 3
   },
   "file_extension": ".py",
   "mimetype": "text/x-python",
   "name": "python",
   "nbconvert_exporter": "python",
   "pygments_lexer": "ipython3",
   "version": "3.9.16"
  }
 },
 "nbformat": 4,
 "nbformat_minor": 5
}
