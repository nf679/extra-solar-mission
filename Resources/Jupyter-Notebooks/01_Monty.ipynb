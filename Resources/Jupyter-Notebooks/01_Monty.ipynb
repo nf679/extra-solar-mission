{
 "cells": [
  {
   "cell_type": "markdown",
   "id": "2ebb3b9a-7de9-4860-9713-5cffc1562b2c",
   "metadata": {},
   "source": [
    "# Setting up your Monty account"
   ]
  },
  {
   "cell_type": "markdown",
   "id": "a08da6f8-2f84-4859-8f9b-d52913e82690",
   "metadata": {},
   "source": [
    "`Monty` is the STFC-hoster Jupyter Notebook service. We will be using this to write and run our code in."
   ]
  },
  {
   "cell_type": "markdown",
   "id": "56cef2fc-d184-4775-9646-c18b444e2cce",
   "metadata": {},
   "source": [
    "## 1. Navigate to [https://monty.stfc.ac.uk](https://monty.stfc.ac.uk/hub/login?next=%2Fhub%2F)"
   ]
  },
  {
   "cell_type": "markdown",
   "id": "2ff5cfd6-eb43-46ee-95e9-cfebee7723e9",
   "metadata": {},
   "source": [
    "You will land on a page looking something like this:"
   ]
  },
  {
   "cell_type": "markdown",
   "id": "30b5a3d6-e055-4a44-912c-f7433f76afa5",
   "metadata": {},
   "source": [
    "![monty_homepage](images/01_monty_homepage.png)"
   ]
  },
  {
   "cell_type": "markdown",
   "id": "d38ba85a-3f98-497e-a940-9f504ed46c97",
   "metadata": {},
   "source": [
    "## 2. Sign in to your account"
   ]
  },
  {
   "cell_type": "markdown",
   "id": "9dd5be46-1a4e-4b3b-be6b-d164d5e897c3",
   "metadata": {},
   "source": [
    "We will send you your username. You input this username into the `username` box and type whatever you want your password to be into the `password` box. This will set this as your password so remember it!"
   ]
  },
  {
   "cell_type": "markdown",
   "id": "7a642b86-c625-4886-8127-d49411b43e0f",
   "metadata": {},
   "source": [
    "![monty_account](images/02_monty_account.png)"
   ]
  },
  {
   "cell_type": "markdown",
   "id": "62935dad-96f2-4e26-9ffb-4975e0621050",
   "metadata": {},
   "source": [
    "# 3. That's it! Let's take a look around."
   ]
  },
  {
   "cell_type": "markdown",
   "id": "4b3263f2-18e5-42dc-9b0e-28e3aff2899d",
   "metadata": {},
   "source": [
    "Once you have done that and click `sign in` you will see a loading screen, then be taken to this screen:"
   ]
  },
  {
   "cell_type": "markdown",
   "id": "2311c9c1-518b-4c5f-9a43-4ec896fca01b",
   "metadata": {},
   "source": [
    "![monty_launcher](images/03_monty_launcher.png)"
   ]
  },
  {
   "cell_type": "markdown",
   "id": "0be3ba3c-4b30-46ce-ad29-241b2f0d81fd",
   "metadata": {},
   "source": [
    "There are a few sections on this screen:\n",
    "- On the left is the file browser, once we create some files they will be listed there.\n",
    "- The main part of the screen has a tab called `launcher`. This is the page we are currently looking at. We can open multiple tabs like in a browser.\n",
    "- To open a tab we can click on one of the boxes. Here's what they do:\n",
    "    - The `Python 3` box under the `Notebook` heading creates a new Jupyter Notebook. This is where we can write and run code.\n",
    "    - The `Python 3` box under the `Console` heading let's us run lines of Python straight into a console. This just means that rather than writing to a file which we can save, run multiple times and come back to later, we are writing the codes to be run straight away.\n",
    "    - The `Terminal` box under the `Other` heading opens a terminal window. This is where you can run commands to do things like use `Git`, download files or navigate the command line.\n",
    "    - The `Text file` box under the `Other` heading creates a new text file.\n",
    "    - The `Markdown file` box under the `Other` heading creates a new Markdown file - this is a type of file where you can use special formatting to make a document look good.\n",
    "    - The `Show Contextual Help` box under the `Other` heading offers extra help."
   ]
  }
 ],
 "metadata": {
  "kernelspec": {
   "display_name": "Python 3 (ipykernel)",
   "language": "python",
   "name": "python3"
  },
  "language_info": {
   "codemirror_mode": {
    "name": "ipython",
    "version": 3
   },
   "file_extension": ".py",
   "mimetype": "text/x-python",
   "name": "python",
   "nbconvert_exporter": "python",
   "pygments_lexer": "ipython3",
   "version": "3.9.16"
  }
 },
 "nbformat": 4,
 "nbformat_minor": 5
}
