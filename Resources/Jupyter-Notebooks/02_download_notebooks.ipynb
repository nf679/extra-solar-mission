{
 "cells": [
  {
   "cell_type": "markdown",
   "id": "19dd4b60-09cd-4297-a93a-bc63408d3c75",
   "metadata": {},
   "source": [
    "# Downloading files into Monty"
   ]
  },
  {
   "cell_type": "markdown",
   "id": "1b71badf-cf5d-4fff-ab73-c9162a93e385",
   "metadata": {},
   "source": [
    "Now that you have your Monty account set up, let's download the notebooks for the coding tutorials into your Monty account filesystem."
   ]
  },
  {
   "cell_type": "markdown",
   "id": "cf52db2d-78f7-4bbd-b625-d4f81a5dcdd2",
   "metadata": {},
   "source": [
    "## 1. Open a Monty window"
   ]
  },
  {
   "cell_type": "markdown",
   "id": "8f3e3d50-388e-45bf-b135-36c2bbe5f856",
   "metadata": {},
   "source": [
    "Go to the [Monty Homepage](https://monty.stfc.ac.uk) and log in if you haven't already. You should end up on a screen like this:"
   ]
  },
  {
   "cell_type": "markdown",
   "id": "d367a71a-9ea8-4237-85c0-745ebf47af64",
   "metadata": {},
   "source": [
    "![monty-homepage](images/03_monty_launcher.png)"
   ]
  },
  {
   "cell_type": "markdown",
   "id": "5cb1fa9f-63fe-4736-8681-93cbc6135c20",
   "metadata": {},
   "source": [
    "## 2. Create a new folder"
   ]
  },
  {
   "cell_type": "markdown",
   "id": "6cea7156-7e07-44ea-b84c-1b7bf4bdb347",
   "metadata": {},
   "source": [
    "Let's create a new folder to keep our EEP work in. Click on the folder icon with the plus on the left hand side:"
   ]
  },
  {
   "cell_type": "markdown",
   "id": "5d9152f8-840a-4a54-9a60-c9b804cfa430",
   "metadata": {},
   "source": [
    "![monty_new_folder](images/04_monty_new_folder.png)"
   ]
  },
  {
   "cell_type": "markdown",
   "id": "f746705c-6a3e-4f09-b00a-3997d4ed7a9f",
   "metadata": {},
   "source": [
    "Call it anything you want. I've called mine `EEP` and you can now see it on the left hand side."
   ]
  },
  {
   "cell_type": "markdown",
   "id": "d328882e-67c3-42c0-b64a-0e65bb8848b8",
   "metadata": {},
   "source": [
    "![monty-EEP](images/05_monty_EEP_folder.png)"
   ]
  },
  {
   "cell_type": "markdown",
   "id": "f7f2ffde-f06f-4eaa-a808-b78a4847e303",
   "metadata": {},
   "source": [
    "## 3. Navigate into the folder and open a terminal window"
   ]
  },
  {
   "cell_type": "markdown",
   "id": "fcd6ffab-1f00-4276-b198-d87f4e630669",
   "metadata": {},
   "source": [
    "Double click on the folder you just created in the file explorer on the left to navigate into it. The bar on the left should now look like this to show that you're currently in that folder."
   ]
  },
  {
   "cell_type": "markdown",
   "id": "1949a780-9426-47eb-b50e-7deb1960ad53",
   "metadata": {},
   "source": [
    "![Monty-EEP](images/06_monty_inside_EEP.png)"
   ]
  },
  {
   "cell_type": "markdown",
   "id": "1568c174-3a5a-499c-ba0b-04cc66131ca3",
   "metadata": {},
   "source": [
    "Click on the `Terminal` box under `Other` to open a terminal window. It will look like this."
   ]
  },
  {
   "cell_type": "markdown",
   "id": "5cc305ee-404c-4299-a1ef-80660700c890",
   "metadata": {},
   "source": [
    "![monty-terminal](images/07_monty_terminal.png)"
   ]
  },
  {
   "cell_type": "markdown",
   "id": "cf6acca0-d1bf-43e3-8824-8984a61175fe",
   "metadata": {},
   "source": [
    "The line saying `jupyter-meep01@monty:~$` is giving us information about our location in the file system."
   ]
  },
  {
   "cell_type": "markdown",
   "id": "f69f02b2-fb14-4840-ba6c-9204ee51982a",
   "metadata": {},
   "source": [
    "## 4. Let's type in a command to download the files"
   ]
  },
  {
   "cell_type": "markdown",
   "id": "ea59ef11-1273-47fa-8aaf-0e0d849f26aa",
   "metadata": {},
   "source": [
    "You can type in commands to the terminal window to do certain things. Let's check you're in the right place by typing in `pwd`."
   ]
  },
  {
   "cell_type": "markdown",
   "id": "4058ccab-f1a5-45b9-856b-a2c5fbbd26f6",
   "metadata": {},
   "source": [
    "`pwd` is a command which stands for `Present Working Directory` - this get's the terminal to tell us where it is currently working. This should return `/home/jupyter-meep01` except it will have your username at the end in place of `meep01`."
   ]
  },
  {
   "cell_type": "markdown",
   "id": "735763b5-bd12-487f-85b5-1ef8857f5538",
   "metadata": {},
   "source": [
    "![monty-pwd](images/08_monty_pwd.png)"
   ]
  },
  {
   "cell_type": "markdown",
   "id": "115dcb6b-4ec8-4f13-bc67-0d21c467af44",
   "metadata": {},
   "source": [
    "We need the terminal to work in the folder we just created. Use the command `ls` to list the files and folders in the folder we are currently in. You should see `EEP` or whatever you named the folder you made."
   ]
  },
  {
   "cell_type": "markdown",
   "id": "abfc58e9-6ac8-44a3-8cec-85f2ea6280a5",
   "metadata": {},
   "source": [
    "![monty-ls](images/09_monty_ls.png)"
   ]
  },
  {
   "cell_type": "markdown",
   "id": "ffad0a61-886e-4dd3-944c-2dd776634579",
   "metadata": {},
   "source": [
    "`EEP` is in blue because it's a folder. Next we want to change directory (the name for a folder) using `cd <foldername>`. For example, I will type in `cd EEP`."
   ]
  },
  {
   "cell_type": "markdown",
   "id": "487e10a8-392d-4213-ad3d-7e7b9b53338f",
   "metadata": {},
   "source": [
    "![monty-cd](images/10_monty_cd.png)"
   ]
  },
  {
   "cell_type": "markdown",
   "id": "1e37c48f-994d-4aab-a466-b67442fe7db4",
   "metadata": {},
   "source": [
    "You can now see that we are in the EEP folder because the text in the terminal says `jupyter-meep01@monty:~/EEP$`. But let's check it using `pwd`:"
   ]
  },
  {
   "cell_type": "markdown",
   "id": "224c3f22-f338-47c2-b4ab-15d2f267c39c",
   "metadata": {},
   "source": [
    "![monty-pwd-eep](images/11_monty_pwd.png)"
   ]
  },
  {
   "cell_type": "markdown",
   "id": "751604d2-d231-4e59-a540-ae1977ff3d57",
   "metadata": {},
   "source": [
    "Now that we are in the right place, let's download the files using this line of code:\n",
    "```\n",
    "git clone https://github.com/nf679/extra-solar-mission.git\n",
    "```"
   ]
  },
  {
   "cell_type": "markdown",
   "id": "b6e3fe0e-5280-489e-9199-9e31dcb9866d",
   "metadata": {},
   "source": [
    "![monty-wget](images/12_monty_git_clone.png)"
   ]
  },
  {
   "cell_type": "markdown",
   "id": "90b53ec2-9a58-42b0-b595-21a17c20c09a",
   "metadata": {},
   "source": [
    "You can see this worked because there is a folder called `extra-solar-mission` on the left hand side."
   ]
  },
  {
   "cell_type": "markdown",
   "id": "a5e08644-d618-48a2-9b8c-752f95b8c5d9",
   "metadata": {},
   "source": [
    "This is it! You now have all the notebooks you need and won't need to do any of this command line stuff again if you don't want to. "
   ]
  },
  {
   "cell_type": "markdown",
   "id": "4fd7c9ac-df09-49ca-9998-4f8652660064",
   "metadata": {},
   "source": [
    "Remember if you get stuck at any point to post a message on the teams for your mentor, or ask in the meetings!"
   ]
  }
 ],
 "metadata": {
  "kernelspec": {
   "display_name": "Python 3 (ipykernel)",
   "language": "python",
   "name": "python3"
  },
  "language_info": {
   "codemirror_mode": {
    "name": "ipython",
    "version": 3
   },
   "file_extension": ".py",
   "mimetype": "text/x-python",
   "name": "python",
   "nbconvert_exporter": "python",
   "pygments_lexer": "ipython3",
   "version": "3.9.16"
  }
 },
 "nbformat": 4,
 "nbformat_minor": 5
}
